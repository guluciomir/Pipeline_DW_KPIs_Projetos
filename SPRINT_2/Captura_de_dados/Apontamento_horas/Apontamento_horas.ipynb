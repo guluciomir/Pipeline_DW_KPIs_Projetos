{
 "cells": [
  {
   "cell_type": "code",
   "execution_count": 1,
   "metadata": {},
   "outputs": [],
   "source": [
    "from faker import Faker\n",
    "import random\n",
    "import pandas as pd\n",
    "import string\n",
    "from datetime import date"
   ]
  },
  {
   "cell_type": "code",
   "execution_count": 25,
   "metadata": {},
   "outputs": [],
   "source": [
    "fake = Faker('pt_BR')\n",
    "\n",
    "# Dados fictícios para apontamento de horas \n",
    "num_apontamento_horas = 19000\n",
    "\n",
    "\n",
    "Captura_apontamento_horas = [{\n",
    "    \"surrogate_key_captura_apontamento_horas\": i,\n",
    "    \"data_apontamento\": fake.date_between(start_date=date(2024,9,1), end_date=date(2024,9,30)), \n",
    "    \"codigo_matricula_colaborador_apontado\": random.randint(1,960),\n",
    "    \"codigo_filial_apontada\": random.choice(['M1','F2','F3']),\n",
    "    \"codigo_projeto_apontado\": random.randint(1,250),\n",
    "    \"codigo_cliente_projeto\": random.randint(1,100),\n",
    "    \"codigo_segmento_mercado\": random.randint(1,7),\n",
    "    \"indicador_tipo_hora_trabalhada\": random.choice(['HN','HE']),\n",
    "    \"quantidade_horas_trabalhadas\": round(random.uniform(1, 8), 2),\n",
    "    \"tipo_despesa_apontada\": random.randint(1,5),\n",
    "    \"valor_despesa_apontada\": round(random.uniform(1,150), 2)\n",
    "} for i in range(1, num_apontamento_horas + 1)]\n",
    "\n",
    "df_Captura_apontamento_horas = pd.DataFrame(Captura_apontamento_horas)\n",
    "\n",
    "df_Captura_apontamento_horas.to_csv('Tabela_Captura_apontamento_horas_202409.csv', index=False)"
   ]
  }
 ],
 "metadata": {
  "kernelspec": {
   "display_name": "base",
   "language": "python",
   "name": "python3"
  },
  "language_info": {
   "codemirror_mode": {
    "name": "ipython",
    "version": 3
   },
   "file_extension": ".py",
   "mimetype": "text/x-python",
   "name": "python",
   "nbconvert_exporter": "python",
   "pygments_lexer": "ipython3",
   "version": "3.9.13"
  }
 },
 "nbformat": 4,
 "nbformat_minor": 2
}

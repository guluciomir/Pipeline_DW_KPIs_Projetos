{
 "cells": [
  {
   "cell_type": "code",
   "execution_count": null,
   "metadata": {},
   "outputs": [],
   "source": [
    "import os\n",
    "import pandas as pd\n",
    "import pyodbc\n",
    "import time\n",
    "from watchdog.observers import Observer\n",
    "from watchdog.events import FileSystemEventHandler\n",
    "\n",
    "#Configurações do SQL Server\n",
    "server = 'MCTAB086451'\n",
    "database = 'KPIsProjetos'\n",
    "table_name = 'dbo.Tabela_captura_apontamento_horas'\n",
    "\n",
    "print(pyodbc.drivers())\n",
    "\n",
    "# Configuração da conexão\n",
    "conn = pyodbc.connect(f'DRIVER={{SQL Server}};SERVER={server};DATABASE={database}')\n",
    "cursor = conn.cursor()\n",
    "\n",
    "# Função para carregar CSV para o SQL Server\n",
    "def load_csv_to_sql():\n",
    "    df = pd.read_csv('C:\\\\Users\\guluciomir\\PosArqEngDados\\ProjetoFinal\\SPRINT 2\\Captura_de_dados\\Apontamento_horas\\Tabela_Captura_apontamento_horas_202301.csv')\n",
    "    for index, row in  df.iterrows():\n",
    "        print(row)\n",
    "        cursor.execute(f\"INSERT INTO {table_name} VALUES ({', '.join(['?' for _ in row])})\", tuple(row))\n",
    "    conn.commit()\n",
    "\n",
    "# Classe de evento para monitorar novos arquivos\n",
    "class NewFileHandler(FileSystemEventHandler):\n",
    "    def on_created(self, event):\n",
    "        if event.is_directory:\n",
    "            return\n",
    "        elif event.src_path.endswith('.csv'):\n",
    "            load_csv_to_sql(event.src_path)\n",
    "            print(f'{event.src_path} carregado com sucesso.')\n",
    "\n",
    "# Caminho da pasta com os arquivos CSV\n",
    "folder_path = 'CAMINHO_DA_SUA_PASTA'\n",
    "\n",
    "# Configuração do observador\n",
    "event_handler = NewFileHandler()\n",
    "observer = Observer()\n",
    "observer.schedule(event_handler, path=folder_path, recursive=False)\n",
    "observer.start()\n",
    "\n",
    "try:\n",
    "    while True:\n",
    "        time.sleep(1)\n",
    "except KeyboardInterrupt:\n",
    "    observer.stop()\n",
    "observer.join()\n"
   ]
  },
  {
   "cell_type": "code",
   "execution_count": 12,
   "metadata": {},
   "outputs": [
    {
     "name": "stdout",
     "output_type": "stream",
     "text": [
      "['SQL Server', 'Oracle em OraClient19Home1', 'Oracle em OraClient12Home1', 'Oracle em OraClient19Home2', 'Oracle em OraClient12Home2', 'Oracle em OraClient12Home3', 'SQL Server Native Client 11.0', 'SQL Server Native Client RDA 11.0', 'ODBC Driver 17 for SQL Server', 'Microsoft Access Driver (*.mdb, *.accdb)', 'Microsoft Excel Driver (*.xls, *.xlsx, *.xlsm, *.xlsb)', 'Microsoft Access Text Driver (*.txt, *.csv)', 'Microsoft Access dBASE Driver (*.dbf, *.ndx, *.mdx)']\n"
     ]
    }
   ],
   "source": [
    "print(pyodbc.drivers())"
   ]
  },
  {
   "cell_type": "code",
   "execution_count": 26,
   "metadata": {},
   "outputs": [],
   "source": [
    "import os\n",
    "import pandas as pd\n",
    "import pyodbc\n",
    "import time\n",
    "from watchdog.observers import Observer\n",
    "from watchdog.events import FileSystemEventHandler\n",
    "\n",
    "#Configurações do SQL Server\n",
    "server = 'MCTAB086451'\n",
    "database = 'KPIsProjetos'\n",
    "table_name = 'Tabela_captura_apontamento_horas'\n",
    "\n",
    "\n",
    "# Configuração da conexão\n",
    "conn = pyodbc.connect(f'DRIVER={{SQL Server}};SERVER={server};DATABASE={database}')\n",
    "cursor = conn.cursor()\n",
    "\n",
    "# Função para carregar CSV para o SQL Server\n",
    "def load_csv_to_sql(file_path):\n",
    "    df = pd.read_csv(file_path)\n",
    "    header = df.columns\n",
    "    colunas = ', '.join(header)\n",
    "    valores = ', '.join(['?']*len(header))\n",
    "    for index, row in  df.iterrows():\n",
    "        cursor.execute(f\"INSERT INTO {table_name} ({colunas}) VALUES({valores})\", tuple(row))\n",
    "    conn.commit()\n",
    "\n",
    "load_csv_to_sql()\n",
    "\n",
    "\n",
    "class NewFileHandler(FileSystemEventHandler):\n",
    "    def on_created(self, event):\n",
    "        if event.is_directory:\n",
    "            return\n",
    "        elif event.src_path.endswith('.csv'):\n",
    "            load_csv_to_sql(event.src_path)\n",
    "            print(f'{event.src_path} carregado com sucesso.')\n",
    "\n",
    "# Caminho da pasta com os arquivos CSV\n",
    "folder_path = 'C:\\\\Users\\\\guluciomir\\\\PosArqEngDados\\\\ProjetoFinal\\\\SPRINT 2\\\\Captura_de_dados\\\\Apontamento_horas'\n",
    "\n",
    "# Configuração do observador\n",
    "event_handler = NewFileHandler()\n",
    "observer = Observer()\n",
    "observer.schedule(event_handler, path=folder_path, recursive=False)\n",
    "observer.start()\n",
    "\n",
    "try:\n",
    "    while True:\n",
    "        time.sleep(1)\n",
    "except KeyboardInterrupt:\n",
    "    observer.stop()\n",
    "observer.join()"
   ]
  },
  {
   "cell_type": "code",
   "execution_count": 9,
   "metadata": {},
   "outputs": [],
   "source": [
    "def load_csv_to_sql():\n",
    "    df = pd.read_csv('C:\\\\Users\\guluciomir\\PosArqEngDados\\ProjetoFinal\\SPRINT 2\\Captura_de_dados\\Tabela_Captura_apontamento_horas_202301.csv')\n",
    "    for index, row in  df.iterrows():\n",
    "        print(row)"
   ]
  }
 ],
 "metadata": {
  "kernelspec": {
   "display_name": "base",
   "language": "python",
   "name": "python3"
  },
  "language_info": {
   "codemirror_mode": {
    "name": "ipython",
    "version": 3
   },
   "file_extension": ".py",
   "mimetype": "text/x-python",
   "name": "python",
   "nbconvert_exporter": "python",
   "pygments_lexer": "ipython3",
   "version": "3.9.13"
  }
 },
 "nbformat": 4,
 "nbformat_minor": 2
}
